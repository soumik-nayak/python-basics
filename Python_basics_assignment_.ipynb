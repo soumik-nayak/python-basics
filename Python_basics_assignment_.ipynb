{
  "nbformat": 4,
  "nbformat_minor": 0,
  "metadata": {
    "colab": {
      "provenance": []
    },
    "kernelspec": {
      "name": "python3",
      "display_name": "Python 3"
    },
    "language_info": {
      "name": "python"
    }
  },
  "cells": [
    {
      "cell_type": "markdown",
      "source": [
        "# Assignment : Python basics\n"
      ],
      "metadata": {
        "id": "gGhwIz2Bg06o"
      }
    },
    {
      "cell_type": "markdown",
      "source": [
        "1. What is Python, and why is it popular?\n",
        "\n",
        "    -> Python is a high-level, programming language known for its simplicity,and versatility. It is popular because of its wide range of libraries, active community, and suitability for tasks like web development, data analysis, machine learning, and more.\n",
        "2.  What is an interpreter in Python?\n",
        "\n",
        "    -> An interpreter is a program that executes Python code line by line, converting it into machine-readable instructions at runtime.\n",
        "\n",
        "3.  What are pre-defined keywords in Python?\n",
        "\n",
        "    -> Pre-defined keywords are reserved words in Python that have special meanings and cannot be used as variable names. Examples: if, else, while, for, def, etc.\n",
        "\n",
        "4.  Can keywords be used as variable names?\n",
        "\n",
        "    -> No, keywords cannot be used as variable names because they are reserved by the language for specific functionality.\n",
        "\n",
        "5.  What is mutability in Python?\n",
        "\n",
        "    -> Mutability refers to whether an object can be changed after it is created. For example, lists are mutable, but tuples are immutable.\n",
        "\n",
        "6.  Why are lists mutable, but tuples are immutable?\n",
        "\n",
        "    -> Lists are mutable to allow dynamic modifications such as adding, removing, or changing elements. Tuples are immutable to ensure data integrity and reduce memory overhead.\n",
        "\n",
        "7.  What is the difference between == and is operators in Python?\n",
        "\n",
        "    - == checks for value equality.\n",
        "    - is checks for identity, i.e., whether two objects point to the\n",
        "    same memory location.\n",
        "8.  What are logical operators in Python?\n",
        "\n",
        "    -> Logical operators are used to combine conditional statements:\n",
        "\n",
        "   - and\n",
        "   - or\n",
        "   - not\n",
        "9.  What is type casting in Python?\n",
        "\n",
        "    -> Type casting is converting one data type into another, e.g., int('10') converts the string '10' to an integer.\n",
        "\n",
        "10. What is the difference between implicit and explicit type casting?\n",
        "\n",
        "    - Implicit: Performed automatically by Python (e.g., float addition in mixed-type arithmetic).\n",
        "  -  Explicit: Done manually using functions like int(), float(), etc.\n",
        "11. What is the purpose of conditional statements in Python?\n",
        "\n",
        "    -> Conditional statements control the flow of execution based on conditions, such as if, elif, and else.\n",
        "\n",
        "12. How does the elif statement work?\n",
        "\n",
        "    -> The elif statement checks additional conditions if the previous if condition evaluates to False.\n",
        "\n",
        "13.  What is the difference between for and while loops?\n",
        "\n",
        "  -  for loop : Iterates over a sequence (e.g., list, range).\n",
        "  -  while loop : Executes as long as a condition is True.\n",
        "14.  Describe a scenario where a while loop is more suitable than a for loop.\n",
        "    \n",
        "    -> A while loop is better for cases where the number of iterations is unknown and depends on a condition, such as waiting for user input."
      ],
      "metadata": {
        "id": "OAZmK0VshcAm"
      }
    },
    {
      "cell_type": "markdown",
      "source": [
        "#PRACTICAL QUESTIONS"
      ],
      "metadata": {
        "id": "dYv0ZxSvsIi-"
      }
    },
    {
      "cell_type": "code",
      "source": [
        "#1. Write a Python program to print \"Hello, World!\"\n",
        "print(\"Hello, World!\")\n"
      ],
      "metadata": {
        "colab": {
          "base_uri": "https://localhost:8080/"
        },
        "id": "hWdVPy_QsMHH",
        "outputId": "fd2c0065-d6bf-4348-de69-a4430e197eb1"
      },
      "execution_count": null,
      "outputs": [
        {
          "output_type": "stream",
          "name": "stdout",
          "text": [
            "Hello, World!\n"
          ]
        }
      ]
    },
    {
      "cell_type": "code",
      "source": [
        "#2. Write a Python program that displays your name and age\n",
        "name = input(\"Enter your name: \")\n",
        "age = input(\"Enter your age: \")\n",
        "print(f\"Your name is {name} and your age is {age}.\")"
      ],
      "metadata": {
        "colab": {
          "base_uri": "https://localhost:8080/"
        },
        "id": "D5i-wfz2sWkY",
        "outputId": "5020c590-563d-45dd-8e0a-7a21b6ac5887"
      },
      "execution_count": null,
      "outputs": [
        {
          "output_type": "stream",
          "name": "stdout",
          "text": [
            "Enter your name: soumik\n",
            "Enter your age: 19\n",
            "Your name is soumik and your age is 19.\n"
          ]
        }
      ]
    },
    {
      "cell_type": "code",
      "source": [
        "# 3. Write code to print all the pre-defined keywords in Python using the keyword library.\n",
        "import keyword\n",
        "print(keyword.kwlist)\n"
      ],
      "metadata": {
        "colab": {
          "base_uri": "https://localhost:8080/"
        },
        "id": "wPkS-pLZsok9",
        "outputId": "5308a43e-ad8d-497a-e000-ce53fd14172e"
      },
      "execution_count": null,
      "outputs": [
        {
          "output_type": "stream",
          "name": "stdout",
          "text": [
            "['False', 'None', 'True', 'and', 'as', 'assert', 'async', 'await', 'break', 'class', 'continue', 'def', 'del', 'elif', 'else', 'except', 'finally', 'for', 'from', 'global', 'if', 'import', 'in', 'is', 'lambda', 'nonlocal', 'not', 'or', 'pass', 'raise', 'return', 'try', 'while', 'with', 'yield']\n"
          ]
        }
      ]
    },
    {
      "cell_type": "code",
      "source": [
        "#4. Write a program that checks if a given word is a Python keyword\n",
        "import keyword\n",
        "word = input(\"Enter a word: \")\n",
        "if keyword.iskeyword(word):\n",
        "    print(f\"{word} is a Python keyword.\")\n",
        "else:\n",
        "    print(f\"{word} is not a Python keyword.\")"
      ],
      "metadata": {
        "colab": {
          "base_uri": "https://localhost:8080/"
        },
        "id": "oS_YAamStF7R",
        "outputId": "4177bf99-7a4c-4eb9-abc6-d3f2e2896858"
      },
      "execution_count": null,
      "outputs": [
        {
          "output_type": "stream",
          "name": "stdout",
          "text": [
            "Enter a word: def\n",
            "def is a Python keyword.\n"
          ]
        }
      ]
    },
    {
      "cell_type": "code",
      "source": [
        "# 5. Create a list and tuple in Python, and demonstrate how attempting to change an element works differently for each\n",
        "\n",
        "my_list = [1, 2, 3]\n",
        "my_tuple = (1, 2, 3)\n",
        "\n",
        "\n",
        "print(\"Original List:\", my_list)\n",
        "my_list[0] = 10\n",
        "print(\"Modified List:\", my_list)\n",
        "\n",
        "\n",
        "print(\"Original Tuple:\", my_tuple)\n",
        "try:\n",
        "    my_tuple[0] = 10\n",
        "except TypeError as e:\n",
        "    print(\"Error:\", e)\n"
      ],
      "metadata": {
        "colab": {
          "base_uri": "https://localhost:8080/"
        },
        "id": "sT7ml5tEtRqT",
        "outputId": "be5335ed-65fa-4116-d2ce-d819307aad07"
      },
      "execution_count": null,
      "outputs": [
        {
          "output_type": "stream",
          "name": "stdout",
          "text": [
            "Original List: [1, 2, 3]\n",
            "Modified List: [10, 2, 3]\n",
            "Original Tuple: (1, 2, 3)\n",
            "Error: 'tuple' object does not support item assignment\n"
          ]
        }
      ]
    },
    {
      "cell_type": "code",
      "source": [
        "#6 & 7. Write a function to demonstrate the behavior of mutable and immutable arguments\n",
        "\n",
        "def modify_arguments(my_list, my_string):\n",
        "\n",
        "    my_list.append(10)\n",
        "    print(\"Inside function, after modifying list:\", my_list)\n",
        "\n",
        "\n",
        "    my_string += \" World\"\n",
        "    print(\"Inside function, after modifying string:\", my_string)\n",
        "\n",
        "\n",
        "my_list = [1, 2, 3]\n",
        "my_string = \"Hello\"\n",
        "\n",
        "print(\"Before function call:\")\n",
        "print(\"List:\", my_list)\n",
        "print(\"String:\", my_string)\n",
        "\n",
        "\n",
        "modify_arguments(my_list, my_string)\n",
        "\n",
        "print(\"\\nAfter function call:\")\n",
        "print(\"List:\", my_list)\n",
        "print(\"String:\", my_string)\n"
      ],
      "metadata": {
        "colab": {
          "base_uri": "https://localhost:8080/"
        },
        "id": "ViDM9Zqatj5s",
        "outputId": "f1694ab4-9793-4113-bf64-1ff09622ce87"
      },
      "execution_count": null,
      "outputs": [
        {
          "output_type": "stream",
          "name": "stdout",
          "text": [
            "Before function call:\n",
            "List: [1, 2, 3]\n",
            "String: Hello\n",
            "Inside function, after modifying list: [1, 2, 3, 10]\n",
            "Inside function, after modifying string: Hello World\n",
            "\n",
            "After function call:\n",
            "List: [1, 2, 3, 10]\n",
            "String: Hello\n"
          ]
        }
      ]
    },
    {
      "cell_type": "code",
      "source": [
        "#8. Write a program to demonstrate the use of logical operators\n",
        "a, b, c = 10, 20, 30\n",
        "print(a < b and b < c)  # True\n",
        "print(a > b or c > a)   # True\n",
        "print(not (a < c))      # False\n"
      ],
      "metadata": {
        "colab": {
          "base_uri": "https://localhost:8080/"
        },
        "id": "zMjtSDrfvdYy",
        "outputId": "4984b231-7003-4b30-f67b-cd68413520a4"
      },
      "execution_count": null,
      "outputs": [
        {
          "output_type": "stream",
          "name": "stdout",
          "text": [
            "True\n",
            "True\n",
            "False\n"
          ]
        }
      ]
    },
    {
      "cell_type": "code",
      "source": [
        "#9. Write a Python program to convert user input from string to integer, float, and boolean types\n",
        "user_input = input(\"Enter a value: \")\n",
        "print(int(user_input))\n",
        "print(float(user_input))\n",
        "print(bool(user_input))\n"
      ],
      "metadata": {
        "colab": {
          "base_uri": "https://localhost:8080/"
        },
        "id": "ZdSHZv0Y76MT",
        "outputId": "b3067807-5227-4b1e-dbff-80d4ce104c8c"
      },
      "execution_count": null,
      "outputs": [
        {
          "output_type": "stream",
          "name": "stdout",
          "text": [
            "Enter a value: 22\n",
            "22\n",
            "22.0\n",
            "True\n"
          ]
        }
      ]
    },
    {
      "cell_type": "code",
      "source": [
        "#10. Write code to demonstrate type casting with list elements\n",
        "my_list = ['1', '2', '3']\n",
        "my_list = [int(i) for i in my_list]\n",
        "print(my_list)\n"
      ],
      "metadata": {
        "colab": {
          "base_uri": "https://localhost:8080/"
        },
        "id": "m2VPRJ5b8BTA",
        "outputId": "c48b4097-546a-4d1c-eae7-0d0d0d42f807"
      },
      "execution_count": null,
      "outputs": [
        {
          "output_type": "stream",
          "name": "stdout",
          "text": [
            "[1, 2, 3]\n"
          ]
        }
      ]
    },
    {
      "cell_type": "code",
      "source": [
        "#11. Write a program that checks if a number is positive, negative, or zero\n",
        "num = int(input(\"Enter a number: \"))\n",
        "if num > 0:\n",
        "    print(\"Positive\")\n",
        "elif num < 0:\n",
        "    print(\"Negative\")\n",
        "else:\n",
        "    print(\"Zero\")"
      ],
      "metadata": {
        "colab": {
          "base_uri": "https://localhost:8080/"
        },
        "id": "MHUd9AaD8MmF",
        "outputId": "624870ed-1042-4e5f-8ba5-73f7f42b5df9"
      },
      "execution_count": null,
      "outputs": [
        {
          "output_type": "stream",
          "name": "stdout",
          "text": [
            "Enter a number: 339\n",
            "Positive\n"
          ]
        }
      ]
    },
    {
      "cell_type": "code",
      "source": [
        "#12. Write a for loop to print numbers from 1 to 10\n",
        "for i in range(1, 11):\n",
        "    print(i)"
      ],
      "metadata": {
        "colab": {
          "base_uri": "https://localhost:8080/"
        },
        "id": "FNp_cujU8SK4",
        "outputId": "ca99f8f9-e465-4a31-a1da-98a0ea567fb4"
      },
      "execution_count": null,
      "outputs": [
        {
          "output_type": "stream",
          "name": "stdout",
          "text": [
            "1\n",
            "2\n",
            "3\n",
            "4\n",
            "5\n",
            "6\n",
            "7\n",
            "8\n",
            "9\n",
            "10\n"
          ]
        }
      ]
    },
    {
      "cell_type": "code",
      "source": [
        "#13. Write a Python program to find the sum of all even numbers between 1 and 50\n",
        "sum = 0\n",
        "for i in range(2, 51, 2):\n",
        "    sum += i\n",
        "print(sum)"
      ],
      "metadata": {
        "colab": {
          "base_uri": "https://localhost:8080/"
        },
        "id": "LcDbyjT18eje",
        "outputId": "e0c91d45-cd56-4f33-fd62-16c4e36d9498"
      },
      "execution_count": null,
      "outputs": [
        {
          "output_type": "stream",
          "name": "stdout",
          "text": [
            "650\n"
          ]
        }
      ]
    },
    {
      "cell_type": "code",
      "source": [
        "#14. Write a program to reverse a string using a while loop\n",
        "string = input(\"Enter a string: \")\n",
        "reversed_string = \"\"\n",
        "index = len(string) - 1\n",
        "while index >= 0:\n",
        "    reversed_string += string[index]\n",
        "    index -= 1\n",
        "print(reversed_string)"
      ],
      "metadata": {
        "colab": {
          "base_uri": "https://localhost:8080/"
        },
        "id": "_pLmYTIZ8o28",
        "outputId": "a363f92d-031f-4b71-bb3a-7ab519285617"
      },
      "execution_count": null,
      "outputs": [
        {
          "output_type": "stream",
          "name": "stdout",
          "text": [
            "Enter a string: mixi\n",
            "ixim\n"
          ]
        }
      ]
    },
    {
      "cell_type": "code",
      "source": [
        "#15. Write a Python program to calculate the factorial of a number provided by the user using a while loop.\n",
        "num = int(input(\"Enter a number: \"))\n",
        "factorial = 1\n",
        "while num > 0:\n",
        "    factorial *= num\n",
        "    num -= 1\n",
        "print(factorial)"
      ],
      "metadata": {
        "colab": {
          "base_uri": "https://localhost:8080/"
        },
        "id": "uJHIbE5j8yC6",
        "outputId": "89794b18-eafd-49f3-8948-178ea0669fc6"
      },
      "execution_count": null,
      "outputs": [
        {
          "output_type": "stream",
          "name": "stdout",
          "text": [
            "Enter a number: 10\n",
            "3628800\n"
          ]
        }
      ]
    }
  ]
}